{
 "cells": [
  {
   "cell_type": "code",
   "execution_count": 2,
   "id": "7b1f50f5",
   "metadata": {},
   "outputs": [
    {
     "name": "stdout",
     "output_type": "stream",
     "text": [
      "Enter Ur Correct  Age:6\n",
      "Enter Ur Correct  Age:6\n",
      "Enter Ur Correct  Age:65\n",
      "Ur Eligibile to Vote\n"
     ]
    }
   ],
   "source": [
    "while(True):\n",
    "\tage=int(input(\"Enter Ur Correct  Age:\"))\n",
    "\tif((age>=18) and (age<=100)):\n",
    "\t\tbreak\n",
    "\n",
    "print(\"Ur Eligibile to Vote\")"
   ]
  },
  {
   "cell_type": "code",
   "execution_count": null,
   "id": "bdfa130e",
   "metadata": {},
   "outputs": [],
   "source": []
  },
  {
   "cell_type": "code",
   "execution_count": null,
   "id": "43ba1674",
   "metadata": {},
   "outputs": [],
   "source": []
  }
 ],
 "metadata": {
  "kernelspec": {
   "display_name": "Python 3 (ipykernel)",
   "language": "python",
   "name": "python3"
  },
  "language_info": {
   "codemirror_mode": {
    "name": "ipython",
    "version": 3
   },
   "file_extension": ".py",
   "mimetype": "text/x-python",
   "name": "python",
   "nbconvert_exporter": "python",
   "pygments_lexer": "ipython3",
   "version": "3.10.9"
  }
 },
 "nbformat": 4,
 "nbformat_minor": 5
}
